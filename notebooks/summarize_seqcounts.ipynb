{
 "cells": [
  {
   "cell_type": "markdown",
   "metadata": {},
   "source": [
    "# Gather sequence count information for the SI table"
   ]
  },
  {
   "cell_type": "code",
   "execution_count": 1,
   "metadata": {},
   "outputs": [
    {
     "name": "stderr",
     "output_type": "stream",
     "text": [
      "\u001b[32m\u001b[1m  Activating\u001b[22m\u001b[39m project at `~/ben/chimera_detection/chimera_detection/notebooks`\n"
     ]
    },
    {
     "data": {
      "text/plain": [
       "run_filter_from_files (generic function with 1 method)"
      ]
     },
     "execution_count": 1,
     "metadata": {},
     "output_type": "execute_result"
    }
   ],
   "source": [
    "using Pkg; Pkg.activate(\"..\")\n",
    "using DataFrames, CSV, Plots\n",
    "include(\"../src/utils.jl\")"
   ]
  },
  {
   "cell_type": "code",
   "execution_count": 2,
   "metadata": {},
   "outputs": [
    {
     "data": {
      "text/plain": [
       "\"../../outputs/tables/sequence_counts.tsv\""
      ]
     },
     "execution_count": 2,
     "metadata": {},
     "output_type": "execute_result"
    }
   ],
   "source": [
    "# INPUTS\n",
    "igdiscover_dir = \"../../data/igdiscover22/\"\n",
    "dataset_ids = [\"IML369\", \"PRJNA300878\", \"PRJNA308641\", \"GKH_TCR\", \"PCR_conditions\"]\n",
    "CHMMAIRRa_out_relpath = \"final/CHMMAIRRa_out.tsv.gz\"\n",
    "\n",
    "# OUTPUTS\n",
    "seqcount_outpath = \"../../outputs/tables/sequence_counts.tsv\""
   ]
  },
  {
   "cell_type": "code",
   "execution_count": 3,
   "metadata": {},
   "outputs": [
    {
     "name": "stdout",
     "output_type": "stream",
     "text": [
      "../../data/igdiscover22/IML369\n",
      "final/CHMMAIRRa_out.tsv.gz\n",
      "../../data/igdiscover22/PRJNA300878\n",
      "final/CHMMAIRRa_out.tsv.gz\n",
      "../../data/igdiscover22/PRJNA308641\n",
      "final/CHMMAIRRa_out.tsv.gz\n",
      "../../data/igdiscover22/GKH_TCR\n",
      "final/CHMMAIRRa_out.tsv.gz\n",
      "../../data/igdiscover22/PCR_conditions\n",
      "final/CHMMAIRRa_out.tsv.gz\n"
     ]
    },
    {
     "data": {
      "text/plain": [
       "\"../../outputs/tables/sequence_counts.tsv\""
      ]
     },
     "execution_count": 3,
     "metadata": {},
     "output_type": "execute_result"
    }
   ],
   "source": [
    "# collect sequence count data\n",
    "igdiscover_dataset_dirs = joinpath.(Ref(igdiscover_dir), dataset_ids)\n",
    "read_cts_df = vcat(gather_igdiscover_counts.(igdiscover_dataset_dirs, Ref(CHMMAIRRa_out_relpath))...);\n",
    "CSV.write(seqcount_outpath, read_cts_df, delim = '\\t')"
   ]
  }
 ],
 "metadata": {
  "kernelspec": {
   "display_name": "Julia 1.11.2",
   "language": "julia",
   "name": "julia-1.11"
  },
  "language_info": {
   "file_extension": ".jl",
   "mimetype": "application/julia",
   "name": "julia",
   "version": "1.11.2"
  },
  "orig_nbformat": 4
 },
 "nbformat": 4,
 "nbformat_minor": 2
}

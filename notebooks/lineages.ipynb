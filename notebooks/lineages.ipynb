{
 "cells": [
  {
   "cell_type": "markdown",
   "metadata": {},
   "source": [
    "# Plot lineage tree of a clone from Chernyshev et al. 2023 dataset, IML3695 post-vax library\n",
    "\n",
    "The tree leaves are annotated with the sequence's chimeric status."
   ]
  },
  {
   "cell_type": "code",
   "execution_count": 1,
   "metadata": {},
   "outputs": [
    {
     "name": "stderr",
     "output_type": "stream",
     "text": [
      "\u001b[32m\u001b[1m  Activating\u001b[22m\u001b[39m project at `~/ben/chimera_detection/chimera_detection/notebooks`\n"
     ]
    },
    {
     "data": {
      "text/plain": [
       "run_filter_from_files (generic function with 1 method)"
      ]
     },
     "metadata": {},
     "output_type": "display_data"
    }
   ],
   "source": [
    "using Pkg; Pkg.activate(\"..\")\n",
    "include(\"../src/utils.jl\")"
   ]
  },
  {
   "cell_type": "code",
   "execution_count": 2,
   "metadata": {},
   "outputs": [
    {
     "data": {
      "text/plain": [
       "\"../../outputs/plots/trees/\""
      ]
     },
     "metadata": {},
     "output_type": "display_data"
    }
   ],
   "source": [
    "# INPUTS\n",
    "\n",
    "# I can't share the igdiscover data publicly because it's restricted access\n",
    "# But you can request to download the raw data here https://doi.org/10.17044/scilifelab.21518142\n",
    "# And the IgDiscover instructions are included in the corresponding paper https://doi.org/10.1038/s41467-023-37972-1\n",
    "# members.tsv file obtained with the command ```igdiscover clonotypes --mismatches 0.2 --members members.tsv.gz > clonotypes.tsv```\n",
    "\n",
    "igdiscover_dir = \"../../data/igdiscover22/IML369/IgM/IML3695_25cycle/\"\n",
    "clonotype_members_file = joinpath(igdiscover_dir, \"final\", \"members.tsv.gz\")\n",
    "CHMMAIRRa_out_file = joinpath(igdiscover_dir, \"final\", \"CHMMAIRRa_out.tsv.gz\")\n",
    "\n",
    "# OUTPUTS\n",
    "trees_dir = \"../../outputs/plots/trees/\""
   ]
  },
  {
   "cell_type": "code",
   "execution_count": 3,
   "metadata": {},
   "outputs": [],
   "source": [
    "members = CSV.read(clonotype_members_file, DataFrame, delim = \"\\t\", select = [:sequence_id, :VDJ_nt, :clone_id, :cdr3, :V_SHM, :sequence_alignment, :germline_alignment]);\n",
    "unique!(members, :VDJ_nt)\n",
    "# output of CHMMAIRRa\n",
    "CHMMAIRRA_out = CSV.read(CHMMAIRRa_out_file, DataFrame, delim = \"\\t\");\n",
    "CHMMAIRRA_out[!,\"chimeric\"] = CHMMAIRRA_out[:,\"chimera_probability\"] .> 0.95;"
   ]
  },
  {
   "cell_type": "code",
   "execution_count": 4,
   "metadata": {},
   "outputs": [],
   "source": [
    "members = leftjoin(members, CHMMAIRRA_out, on = :sequence_id, makeunique = true);\n",
    "# get number of chimeric sequences per lineage\n",
    "chimeras_per_lineage = combine(groupby(members, :clone_id), :chimeric => function(x) return sum(x) end => :n_chimeric, nrow => :n_sequences);\n",
    "chimeras_per_lineage[!,\"percent_chimeric\"] = chimeras_per_lineage[:,:n_chimeric] ./ chimeras_per_lineage[:,:n_sequences] * 100;\n",
    "sort!(chimeras_per_lineage, :n_chimeric, rev = true);"
   ]
  },
  {
   "cell_type": "code",
   "execution_count": 5,
   "metadata": {},
   "outputs": [
    {
     "data": {
      "text/html": [
       "<div><div style = \"float: left;\"><span>153×4 DataFrame</span></div><div style = \"float: right;\"><span style = \"font-style: italic;\">128 rows omitted</span></div><div style = \"clear: both;\"></div></div><div class = \"data-frame\" style = \"overflow-x: scroll;\"><table class = \"data-frame\" style = \"margin-bottom: 6px;\"><thead><tr class = \"header\"><th class = \"rowNumber\" style = \"font-weight: bold; text-align: right;\">Row</th><th style = \"text-align: left;\">clone_id</th><th style = \"text-align: left;\">n_chimeric</th><th style = \"text-align: left;\">n_sequences</th><th style = \"text-align: left;\">percent_chimeric</th></tr><tr class = \"subheader headerLastRow\"><th class = \"rowNumber\" style = \"font-weight: bold; text-align: right;\"></th><th title = \"Int64\" style = \"text-align: left;\">Int64</th><th title = \"Int64\" style = \"text-align: left;\">Int64</th><th title = \"Int64\" style = \"text-align: left;\">Int64</th><th title = \"Float64\" style = \"text-align: left;\">Float64</th></tr></thead><tbody><tr><td class = \"rowNumber\" style = \"font-weight: bold; text-align: right;\">1</td><td style = \"text-align: right;\">842</td><td style = \"text-align: right;\">5</td><td style = \"text-align: right;\">129</td><td style = \"text-align: right;\">3.87597</td></tr><tr><td class = \"rowNumber\" style = \"font-weight: bold; text-align: right;\">2</td><td style = \"text-align: right;\">1409</td><td style = \"text-align: right;\">5</td><td style = \"text-align: right;\">175</td><td style = \"text-align: right;\">2.85714</td></tr><tr><td class = \"rowNumber\" style = \"font-weight: bold; text-align: right;\">3</td><td style = \"text-align: right;\">4207</td><td style = \"text-align: right;\">5</td><td style = \"text-align: right;\">136</td><td style = \"text-align: right;\">3.67647</td></tr><tr><td class = \"rowNumber\" style = \"font-weight: bold; text-align: right;\">4</td><td style = \"text-align: right;\">442</td><td style = \"text-align: right;\">3</td><td style = \"text-align: right;\">116</td><td style = \"text-align: right;\">2.58621</td></tr><tr><td class = \"rowNumber\" style = \"font-weight: bold; text-align: right;\">5</td><td style = \"text-align: right;\">656</td><td style = \"text-align: right;\">3</td><td style = \"text-align: right;\">79</td><td style = \"text-align: right;\">3.79747</td></tr><tr><td class = \"rowNumber\" style = \"font-weight: bold; text-align: right;\">6</td><td style = \"text-align: right;\">1876</td><td style = \"text-align: right;\">3</td><td style = \"text-align: right;\">99</td><td style = \"text-align: right;\">3.0303</td></tr><tr><td class = \"rowNumber\" style = \"font-weight: bold; text-align: right;\">7</td><td style = \"text-align: right;\">2093</td><td style = \"text-align: right;\">3</td><td style = \"text-align: right;\">170</td><td style = \"text-align: right;\">1.76471</td></tr><tr><td class = \"rowNumber\" style = \"font-weight: bold; text-align: right;\">8</td><td style = \"text-align: right;\">15018</td><td style = \"text-align: right;\">3</td><td style = \"text-align: right;\">91</td><td style = \"text-align: right;\">3.2967</td></tr><tr><td class = \"rowNumber\" style = \"font-weight: bold; text-align: right;\">9</td><td style = \"text-align: right;\">17456</td><td style = \"text-align: right;\">3</td><td style = \"text-align: right;\">132</td><td style = \"text-align: right;\">2.27273</td></tr><tr><td class = \"rowNumber\" style = \"font-weight: bold; text-align: right;\">10</td><td style = \"text-align: right;\">107</td><td style = \"text-align: right;\">2</td><td style = \"text-align: right;\">63</td><td style = \"text-align: right;\">3.1746</td></tr><tr><td class = \"rowNumber\" style = \"font-weight: bold; text-align: right;\">11</td><td style = \"text-align: right;\">196</td><td style = \"text-align: right;\">2</td><td style = \"text-align: right;\">65</td><td style = \"text-align: right;\">3.07692</td></tr><tr><td class = \"rowNumber\" style = \"font-weight: bold; text-align: right;\">12</td><td style = \"text-align: right;\">1250</td><td style = \"text-align: right;\">2</td><td style = \"text-align: right;\">61</td><td style = \"text-align: right;\">3.27869</td></tr><tr><td class = \"rowNumber\" style = \"font-weight: bold; text-align: right;\">13</td><td style = \"text-align: right;\">4249</td><td style = \"text-align: right;\">2</td><td style = \"text-align: right;\">98</td><td style = \"text-align: right;\">2.04082</td></tr><tr><td style = \"text-align: right;\">&vellip;</td><td style = \"text-align: right;\">&vellip;</td><td style = \"text-align: right;\">&vellip;</td><td style = \"text-align: right;\">&vellip;</td><td style = \"text-align: right;\">&vellip;</td></tr><tr><td class = \"rowNumber\" style = \"font-weight: bold; text-align: right;\">142</td><td style = \"text-align: right;\">17539</td><td style = \"text-align: right;\">1</td><td style = \"text-align: right;\">33</td><td style = \"text-align: right;\">3.0303</td></tr><tr><td class = \"rowNumber\" style = \"font-weight: bold; text-align: right;\">143</td><td style = \"text-align: right;\">18864</td><td style = \"text-align: right;\">1</td><td style = \"text-align: right;\">33</td><td style = \"text-align: right;\">3.0303</td></tr><tr><td class = \"rowNumber\" style = \"font-weight: bold; text-align: right;\">144</td><td style = \"text-align: right;\">19110</td><td style = \"text-align: right;\">1</td><td style = \"text-align: right;\">39</td><td style = \"text-align: right;\">2.5641</td></tr><tr><td class = \"rowNumber\" style = \"font-weight: bold; text-align: right;\">145</td><td style = \"text-align: right;\">19514</td><td style = \"text-align: right;\">1</td><td style = \"text-align: right;\">28</td><td style = \"text-align: right;\">3.57143</td></tr><tr><td class = \"rowNumber\" style = \"font-weight: bold; text-align: right;\">146</td><td style = \"text-align: right;\">19739</td><td style = \"text-align: right;\">1</td><td style = \"text-align: right;\">54</td><td style = \"text-align: right;\">1.85185</td></tr><tr><td class = \"rowNumber\" style = \"font-weight: bold; text-align: right;\">147</td><td style = \"text-align: right;\">20265</td><td style = \"text-align: right;\">1</td><td style = \"text-align: right;\">50</td><td style = \"text-align: right;\">2.0</td></tr><tr><td class = \"rowNumber\" style = \"font-weight: bold; text-align: right;\">148</td><td style = \"text-align: right;\">20585</td><td style = \"text-align: right;\">1</td><td style = \"text-align: right;\">54</td><td style = \"text-align: right;\">1.85185</td></tr><tr><td class = \"rowNumber\" style = \"font-weight: bold; text-align: right;\">149</td><td style = \"text-align: right;\">20670</td><td style = \"text-align: right;\">1</td><td style = \"text-align: right;\">47</td><td style = \"text-align: right;\">2.12766</td></tr><tr><td class = \"rowNumber\" style = \"font-weight: bold; text-align: right;\">150</td><td style = \"text-align: right;\">20743</td><td style = \"text-align: right;\">1</td><td style = \"text-align: right;\">36</td><td style = \"text-align: right;\">2.77778</td></tr><tr><td class = \"rowNumber\" style = \"font-weight: bold; text-align: right;\">151</td><td style = \"text-align: right;\">20817</td><td style = \"text-align: right;\">1</td><td style = \"text-align: right;\">39</td><td style = \"text-align: right;\">2.5641</td></tr><tr><td class = \"rowNumber\" style = \"font-weight: bold; text-align: right;\">152</td><td style = \"text-align: right;\">20936</td><td style = \"text-align: right;\">1</td><td style = \"text-align: right;\">26</td><td style = \"text-align: right;\">3.84615</td></tr><tr><td class = \"rowNumber\" style = \"font-weight: bold; text-align: right;\">153</td><td style = \"text-align: right;\">21010</td><td style = \"text-align: right;\">1</td><td style = \"text-align: right;\">48</td><td style = \"text-align: right;\">2.08333</td></tr></tbody></table></div>"
      ],
      "text/latex": [
       "\\begin{tabular}{r|cccc}\n",
       "\t& clone\\_id & n\\_chimeric & n\\_sequences & percent\\_chimeric\\\\\n",
       "\t\\hline\n",
       "\t& Int64 & Int64 & Int64 & Float64\\\\\n",
       "\t\\hline\n",
       "\t1 & 842 & 5 & 129 & 3.87597 \\\\\n",
       "\t2 & 1409 & 5 & 175 & 2.85714 \\\\\n",
       "\t3 & 4207 & 5 & 136 & 3.67647 \\\\\n",
       "\t4 & 442 & 3 & 116 & 2.58621 \\\\\n",
       "\t5 & 656 & 3 & 79 & 3.79747 \\\\\n",
       "\t6 & 1876 & 3 & 99 & 3.0303 \\\\\n",
       "\t7 & 2093 & 3 & 170 & 1.76471 \\\\\n",
       "\t8 & 15018 & 3 & 91 & 3.2967 \\\\\n",
       "\t9 & 17456 & 3 & 132 & 2.27273 \\\\\n",
       "\t10 & 107 & 2 & 63 & 3.1746 \\\\\n",
       "\t11 & 196 & 2 & 65 & 3.07692 \\\\\n",
       "\t12 & 1250 & 2 & 61 & 3.27869 \\\\\n",
       "\t13 & 4249 & 2 & 98 & 2.04082 \\\\\n",
       "\t14 & 5905 & 2 & 54 & 3.7037 \\\\\n",
       "\t15 & 6745 & 2 & 69 & 2.89855 \\\\\n",
       "\t16 & 8205 & 2 & 76 & 2.63158 \\\\\n",
       "\t17 & 8327 & 2 & 57 & 3.50877 \\\\\n",
       "\t18 & 9421 & 2 & 51 & 3.92157 \\\\\n",
       "\t19 & 11238 & 2 & 80 & 2.5 \\\\\n",
       "\t20 & 12478 & 2 & 59 & 3.38983 \\\\\n",
       "\t21 & 13036 & 2 & 55 & 3.63636 \\\\\n",
       "\t22 & 17794 & 2 & 166 & 1.20482 \\\\\n",
       "\t23 & 17823 & 2 & 105 & 1.90476 \\\\\n",
       "\t24 & 19053 & 2 & 100 & 2.0 \\\\\n",
       "\t$\\dots$ & $\\dots$ & $\\dots$ & $\\dots$ & $\\dots$ \\\\\n",
       "\\end{tabular}\n"
      ],
      "text/plain": [
       "\u001b[1m153×4 DataFrame\u001b[0m\n",
       "\u001b[1m Row \u001b[0m│\u001b[1m clone_id \u001b[0m\u001b[1m n_chimeric \u001b[0m\u001b[1m n_sequences \u001b[0m\u001b[1m percent_chimeric \u001b[0m\n",
       "     │\u001b[90m Int64    \u001b[0m\u001b[90m Int64      \u001b[0m\u001b[90m Int64       \u001b[0m\u001b[90m Float64          \u001b[0m\n",
       "─────┼─────────────────────────────────────────────────────\n",
       "   1 │      842           5          129           3.87597\n",
       "   2 │     1409           5          175           2.85714\n",
       "   3 │     4207           5          136           3.67647\n",
       "   4 │      442           3          116           2.58621\n",
       "   5 │      656           3           79           3.79747\n",
       "   6 │     1876           3           99           3.0303\n",
       "   7 │     2093           3          170           1.76471\n",
       "   8 │    15018           3           91           3.2967\n",
       "  ⋮  │    ⋮          ⋮            ⋮              ⋮\n",
       " 147 │    20265           1           50           2.0\n",
       " 148 │    20585           1           54           1.85185\n",
       " 149 │    20670           1           47           2.12766\n",
       " 150 │    20743           1           36           2.77778\n",
       " 151 │    20817           1           39           2.5641\n",
       " 152 │    20936           1           26           3.84615\n",
       " 153 │    21010           1           48           2.08333\n",
       "\u001b[36m                                           138 rows omitted\u001b[0m"
      ]
     },
     "metadata": {},
     "output_type": "display_data"
    }
   ],
   "source": [
    "# a small lineage with a low-ish chimeric rate probably makes for a good visualization\n",
    "clones_of_interest = chimeras_per_lineage[(chimeras_per_lineage.percent_chimeric .> 0.5) .& (chimeras_per_lineage.percent_chimeric .< 4) .& (chimeras_per_lineage.n_sequences .< 200),:]\n",
    "clone_ids = clones_of_interest.clone_id;\n",
    "clones_of_interest"
   ]
  },
  {
   "cell_type": "code",
   "execution_count": 6,
   "metadata": {},
   "outputs": [
    {
     "name": "stderr",
     "output_type": "stream",
     "text": [
      "┌ Info: Running `/usr/local/bin/mafft --thread 16 /tmp/jl_fyBD7Z/sequences.fasta`\n",
      "└ @ Main /home/mchernys/ben/chimera_detection/chimera_detection/src/utils.jl:81\n",
      "Ignored unknown character X (seen 14 times)\n"
     ]
    },
    {
     "data": {
      "text/plain": [
       "false"
      ]
     },
     "metadata": {},
     "output_type": "display_data"
    }
   ],
   "source": [
    "# uncomment if you want to plot all of the clones\n",
    "#for (i, clone_id) in enumerate(clone_ids[21:50])\n",
    "#    if i % 10 == 0\n",
    "#        println(i/length(clone_ids) * 100, \"%\")\n",
    "#    end\n",
    "clone_id = 19811\n",
    "seqnames, sequences, chimeric = get_clone_id_sequences(members, clone_id);\n",
    "newt = seqs2fasttree_tree(sequences, seqnames);\n",
    "\n",
    "seqname2chimeric = Dict(zip(seqnames, chimeric));\n",
    "seqname2color = Dict()\n",
    "dot_size_dict = Dict()\n",
    "for n in getleaflist(newt)\n",
    "    dot_size_dict[n] = 10\n",
    "    if seqname2chimeric[n.name]\n",
    "        seqname2color[n] = \"red\"\n",
    "    else\n",
    "        seqname2color[n] = \"blue\"\n",
    "    end\n",
    "end\n",
    "compose_dict = Dict()\n",
    "for n in getleaflist(newt)\n",
    "    compose_dict[n] = (x, y) -> pie_chart(x, y, [1], colors = [seqname2color[n.name]], size = 0.011)\n",
    "end\n",
    "tree_plot = tree_draw(newt, draw_labels = false, dot_color_dict = seqname2color, dot_size_dict = dot_size_dict, horizontal = true);\n",
    "# add a legend\n",
    "tree_plot = compose(tree_plot,\n",
    "                (context(), circle(1, 1.00, .01), fill(\"blue\")),\n",
    "                (context(), circle(1, 0.97, .01), fill(\"red\")),\n",
    "                (context(), Compose.text(1.02, 1.006,\"non-chimeric\")),\n",
    "                (context(), Compose.text(1.02, 0.976,\"chimeric\")))\n",
    "tree_plot |> SVG(joinpath(trees_dir, \"IML3695_IgM_25cycle_clone_id=$(clone_id)_withchimeras.svg\"))\n",
    "#end"
   ]
  },
  {
   "cell_type": "code",
   "execution_count": null,
   "metadata": {},
   "outputs": [],
   "source": [
    "# for IML3695 post-vax\n",
    "# clones of interest: 21689, 1392, 16149, 19520, 20148, 22645, 2633, 6544, 9332\n",
    "# for IML3694 post-vax\n",
    "# clones of interest: 8354, 5329, 5025, 50, 19315, 1425"
   ]
  }
 ],
 "metadata": {
  "kernelspec": {
   "display_name": "Julia 1.10.5",
   "language": "julia",
   "name": "julia-1.10"
  },
  "language_info": {
   "file_extension": ".jl",
   "mimetype": "application/julia",
   "name": "julia",
   "version": "1.10.5"
  }
 },
 "nbformat": 4,
 "nbformat_minor": 2
}
